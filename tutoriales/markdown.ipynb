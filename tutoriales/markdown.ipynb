{
 "cells": [
  {
   "cell_type": "raw",
   "metadata": {},
   "source": [
    "# esto es un título en markdown\n",
    "\n",
    "## y esto un subtítulo"
   ]
  },
  {
   "cell_type": "markdown",
   "metadata": {},
   "source": [
    "# esto es un título en markdown\n",
    "\n",
    "## y esto un subtítulo"
   ]
  },
  {
   "cell_type": "raw",
   "metadata": {},
   "source": [
    "_así se escribe en cursiva_ y **así en negrita**"
   ]
  },
  {
   "cell_type": "markdown",
   "metadata": {},
   "source": [
    "_así se escribe en cursiva_ y **así en negrita**"
   ]
  },
  {
   "cell_type": "raw",
   "metadata": {},
   "source": [
    "**_y así ambas_**"
   ]
  },
  {
   "cell_type": "markdown",
   "metadata": {},
   "source": [
    "**_y así ambas_**"
   ]
  },
  {
   "cell_type": "raw",
   "metadata": {},
   "source": [
    "se pueden hacer listas así:\n",
    "* tutorial de markdown\n",
    "* tutorial de python\n",
    "* tutorial de matplotlib"
   ]
  },
  {
   "cell_type": "markdown",
   "metadata": {},
   "source": [
    "se pueden hacer listas así:\n",
    "* tutorial de markdown\n",
    "* tutorial de python\n",
    "* tutorial de matplotlib"
   ]
  },
  {
   "cell_type": "raw",
   "metadata": {},
   "source": [
    "también se las puede dar enumeradas\n",
    "1. leer el apunte\n",
    "2. leer el libro\n",
    "3. hacer las guías\n",
    "4. googlear"
   ]
  },
  {
   "cell_type": "markdown",
   "metadata": {},
   "source": [
    "también se las puede dar enumeradas\n",
    "1. leer el apunte\n",
    "2. leer el libro\n",
    "3. hacer las guías\n",
    "4. googlear"
   ]
  },
  {
   "cell_type": "raw",
   "metadata": {},
   "source": [
    "* también se puede agregar\n",
    "    * una lista\n",
    "    * en otra"
   ]
  },
  {
   "cell_type": "markdown",
   "metadata": {},
   "source": [
    "* también se puede agregar\n",
    "    * una lista\n",
    "    * en otra"
   ]
  },
  {
   "cell_type": "raw",
   "metadata": {},
   "source": [
    "> las citas suelen escribirse así"
   ]
  },
  {
   "cell_type": "markdown",
   "metadata": {},
   "source": [
    "> las citas suelen escribirse así"
   ]
  },
  {
   "cell_type": "raw",
   "metadata": {},
   "source": [
    "se pueden agregar un link a alguna página [acá va lo que se muestra](y acá el link)"
   ]
  },
  {
   "cell_type": "markdown",
   "metadata": {},
   "source": [
    "[link a un tutorial](https://www.markdowntutorial.com/)"
   ]
  }
 ],
 "metadata": {
  "kernelspec": {
   "display_name": "Python 3",
   "language": "python",
   "name": "python3"
  },
  "language_info": {
   "codemirror_mode": {
    "name": "ipython",
    "version": 3
   },
   "file_extension": ".py",
   "mimetype": "text/x-python",
   "name": "python",
   "nbconvert_exporter": "python",
   "pygments_lexer": "ipython3",
   "version": "3.8.10"
  }
 },
 "nbformat": 4,
 "nbformat_minor": 4
}
