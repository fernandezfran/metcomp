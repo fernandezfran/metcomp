{
 "cells": [
  {
   "cell_type": "markdown",
   "metadata": {},
   "source": [
    "# Guía 4: Números aleatorios"
   ]
  },
  {
   "cell_type": "markdown",
   "metadata": {},
   "source": [
    "## Introducción\n",
    "\n",
    "Para generar números aleatorios podemos usar `NumPy`."
   ]
  },
  {
   "cell_type": "code",
   "execution_count": 1,
   "metadata": {},
   "outputs": [],
   "source": [
    "import numpy as np"
   ]
  },
  {
   "cell_type": "markdown",
   "metadata": {},
   "source": [
    "Por ejemplo, la siguiente línea de código nos devuelve un número aleatorio uniformemente distribuído entre 0 y 1."
   ]
  },
  {
   "cell_type": "code",
   "execution_count": 2,
   "metadata": {},
   "outputs": [
    {
     "data": {
      "text/plain": [
       "0.7190394507774047"
      ]
     },
     "execution_count": 2,
     "metadata": {},
     "output_type": "execute_result"
    }
   ],
   "source": [
    "np.random.rand()"
   ]
  },
  {
   "cell_type": "markdown",
   "metadata": {},
   "source": [
    "Podemos fijarle la semilla para que siempre nos devuelva el mismo número"
   ]
  },
  {
   "cell_type": "code",
   "execution_count": 3,
   "metadata": {},
   "outputs": [
    {
     "data": {
      "text/plain": [
       "0.1915194503788923"
      ]
     },
     "execution_count": 3,
     "metadata": {},
     "output_type": "execute_result"
    }
   ],
   "source": [
    "np.random.seed(seed=1234)\n",
    "np.random.rand()"
   ]
  },
  {
   "cell_type": "markdown",
   "metadata": {},
   "source": [
    "La siguiente celda con código genera una distribución aleatoria de 100000 elementos que luego son graficados en un histograma para verificar que la distribución es uniforme."
   ]
  },
  {
   "cell_type": "code",
   "execution_count": 4,
   "metadata": {},
   "outputs": [
    {
     "data": {
      "image/png": "[encoded data removed]",
      "text/plain": [
       "<Figure size 640x480 with 1 Axes>"
      ]
     },
     "metadata": {},
     "output_type": "display_data"
    }
   ],
   "source": [
    "import matplotlib.pyplot as plt\n",
    "\n",
    "np.random.seed(seed=192857)\n",
    "rand_values = np.random.rand(100000)\n",
    "\n",
    "# grafica un histograma de 100 bins  y chequeamos que da 1\n",
    "plt.hist(rand_values, bins=100, density=True)\n",
    "plt.plot([0, 1], [1, 1], color=\"tab:red\", linestyle=\"dashed\")\n",
    "plt.xlim((0.0, 1.0))\n",
    "\n",
    "plt.ylabel(\"densidad de probabilidad\")\n",
    "plt.xlabel(\"número aleatorio\")\n",
    "plt.show()"
   ]
  },
  {
   "cell_type": "markdown",
   "metadata": {},
   "source": [
    "## Ejercicios de programación"
   ]
  },
  {
   "cell_type": "markdown",
   "metadata": {},
   "source": [
    "1. Escriba un código para generar números aleatorios exponencialmente distribuidos en el intervalor $[0, \\infty)$, a partir de variables aleatorias uniformemente distribuidas en el intervalo $[0, 1)$ (ver celda de código de jemplo arriba). Para comprobar que los números generados obedecen la distribución buscada, realizar un histograma."
   ]
  },
  {
   "cell_type": "code",
   "execution_count": null,
   "metadata": {},
   "outputs": [],
   "source": []
  },
  {
   "cell_type": "markdown",
   "metadata": {},
   "source": [
    "2. Escriba un código para evaluar la integral $$\\int_0^1 \\frac{1}{1 + x^2} dx$$ con el método de Monte Carlo y usando un muestreo uniforme."
   ]
  },
  {
   "cell_type": "code",
   "execution_count": null,
   "metadata": {},
   "outputs": [],
   "source": []
  },
  {
   "cell_type": "markdown",
   "metadata": {},
   "source": [
    "3. Comparar el resultado obtenido en el ejercicio anterior a través de un muestreo de importancia, utilizando la función de peso $$u(x) = \\frac{1}{3} (4 - 2x).$$ Para generar los números aleatorios, considerar el método de transformación de una variable aleatoria uniforme y el método del rechazo."
   ]
  },
  {
   "cell_type": "code",
   "execution_count": null,
   "metadata": {},
   "outputs": [],
   "source": []
  }
 ],
 "metadata": {
  "kernelspec": {
   "display_name": "Python 3",
   "language": "python",
   "name": "python3"
  },
  "language_info": {
   "codemirror_mode": {
    "name": "ipython",
    "version": 3
   },
   "file_extension": ".py",
   "mimetype": "text/x-python",
   "name": "python",
   "nbconvert_exporter": "python",
   "pygments_lexer": "ipython3",
   "version": "3.8.10"
  }
 },
 "nbformat": 4,
 "nbformat_minor": 4
}
