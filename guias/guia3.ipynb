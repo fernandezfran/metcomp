{
 "cells": [
  {
   "cell_type": "markdown",
   "metadata": {},
   "source": [
    "# Guía 3: Condiciones de contorno en las fronteras"
   ]
  },
  {
   "cell_type": "markdown",
   "metadata": {},
   "source": [
    "## Ejercicios de programación"
   ]
  },
  {
   "cell_type": "markdown",
   "metadata": {},
   "source": [
    "1. Escriba un código que permita resolver numéricamente la ecuación diferencial $$u''(x) = -\\frac{\\pi^2}{4} (u(x) + 1)$$ en el intervalo $x = [0, 1]$ y teniendo en cuenta las condiciones de contorno $u(0) = 0$ y $u(1) = 1$."
   ]
  },
  {
   "cell_type": "code",
   "execution_count": null,
   "metadata": {},
   "outputs": [],
   "source": []
  },
  {
   "cell_type": "markdown",
   "metadata": {},
   "source": [
    "2. Escriba un código que permita resolver numéricamente la ecuación diferencial $$u''(x) = -k^2 u(x)$$ en el intervalo $x = [0, 1]$ y teniendo en cuenta las condiciones de contorno $u(0) = 0$ y $u(1) = 0$."
   ]
  },
  {
   "cell_type": "code",
   "execution_count": null,
   "metadata": {},
   "outputs": [],
   "source": []
  },
  {
   "cell_type": "markdown",
   "metadata": {},
   "source": [
    "3. Repita el ejercicio anterior considerando $$k^2 = 2(E - V(x))$$ (ecuación de Schrödinger con $m = \\hbar = 1$) para algún potencial $V(x)$ arbitrario (e.g. $V(x) = a x^2$)"
   ]
  },
  {
   "cell_type": "code",
   "execution_count": null,
   "metadata": {},
   "outputs": [],
   "source": []
  }
 ],
 "metadata": {
  "kernelspec": {
   "display_name": "Python 3",
   "language": "python",
   "name": "python3"
  },
  "language_info": {
   "codemirror_mode": {
    "name": "ipython",
    "version": 3
   },
   "file_extension": ".py",
   "mimetype": "text/x-python",
   "name": "python",
   "nbconvert_exporter": "python",
   "pygments_lexer": "ipython3",
   "version": "3.8.10"
  }
 },
 "nbformat": 4,
 "nbformat_minor": 4
}
