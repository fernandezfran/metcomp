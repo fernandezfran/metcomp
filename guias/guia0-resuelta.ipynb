{
 "cells": [
  {
   "cell_type": "markdown",
   "metadata": {},
   "source": [
    "# Guía 0: Ejercicios de introducción"
   ]
  },
  {
   "cell_type": "markdown",
   "metadata": {},
   "source": [
    "1. Dados tres valores `x`, `y`, `z`, permutarlos circularmente"
   ]
  },
  {
   "cell_type": "code",
   "execution_count": 1,
   "metadata": {},
   "outputs": [
    {
     "name": "stdout",
     "output_type": "stream",
     "text": [
      "antes de permutarlos\n",
      "1 -5 3.14\n",
      "una vez permutados\n",
      "3.14 1 -5\n"
     ]
    }
   ],
   "source": [
    "x = 1\n",
    "y = -5\n",
    "z = 3.14\n",
    "\n",
    "print(\"antes de permutarlos\")\n",
    "print(x, y, z)\n",
    "\n",
    "x, y, z = z, x, y\n",
    "print(\"una vez permutados\")\n",
    "print(x, y, z)"
   ]
  },
  {
   "cell_type": "markdown",
   "metadata": {},
   "source": [
    "2. Dadas tres cantidades, ordenarlas de manera creciente."
   ]
  },
  {
   "cell_type": "code",
   "execution_count": 2,
   "metadata": {},
   "outputs": [
    {
     "name": "stdout",
     "output_type": "stream",
     "text": [
      "1 2 3\n"
     ]
    }
   ],
   "source": [
    "x, y, z = 3, 2, 1\n",
    "\n",
    "if x > y:\n",
    "    x, y = y, x\n",
    "if y > z:\n",
    "    y, z = z, y\n",
    "if x > y:\n",
    "    x, y = y, x\n",
    "\n",
    "print(x, y, z)"
   ]
  },
  {
   "cell_type": "markdown",
   "metadata": {},
   "source": [
    "3. Conociendo tres cantidades `x`, `y`, `z` y sabiendo que `x < y < z`, dada otra cantidad `a`, ubicarla en la serie e imprimir las cuatro cantidades de manera creciente."
   ]
  },
  {
   "cell_type": "code",
   "execution_count": 3,
   "metadata": {},
   "outputs": [
    {
     "name": "stdout",
     "output_type": "stream",
     "text": [
      "1 1.5 2 3\n"
     ]
    }
   ],
   "source": [
    "x, y, z = 1, 2, 3\n",
    "\n",
    "a = 1.5\n",
    "if a <= x:\n",
    "    print(a, x, y, z)\n",
    "elif x < a <= y:\n",
    "    print(x, a, y, z)\n",
    "elif y < a <= z:\n",
    "    print(x, y, a, z)\n",
    "elif a > z:\n",
    "    print(x, y, z, a)"
   ]
  },
  {
   "cell_type": "markdown",
   "metadata": {},
   "source": [
    "4. **Cálculo de factoriales**"
   ]
  },
  {
   "cell_type": "markdown",
   "metadata": {},
   "source": [
    "a) Calcular el factorial de todos los números menores o iguales que 20, utilizando la sentencia `for`, e imprimir cada resultado."
   ]
  },
  {
   "cell_type": "code",
   "execution_count": 4,
   "metadata": {},
   "outputs": [
    {
     "name": "stdout",
     "output_type": "stream",
     "text": [
      "0 1\n",
      "1 1\n",
      "2 2\n",
      "3 6\n",
      "4 24\n",
      "5 120\n",
      "6 720\n",
      "7 5040\n",
      "8 40320\n",
      "9 362880\n",
      "10 3628800\n",
      "11 39916800\n",
      "12 479001600\n",
      "13 6227020800\n",
      "14 87178291200\n",
      "15 1307674368000\n",
      "16 20922789888000\n",
      "17 355687428096000\n",
      "18 6402373705728000\n",
      "19 121645100408832000\n"
     ]
    }
   ],
   "source": [
    "factorial = 1\n",
    "for i in range(20):\n",
    "    if i == 0:\n",
    "        factorial = 1\n",
    "    else:\n",
    "        factorial = factorial * i\n",
    "    print(i, factorial)"
   ]
  },
  {
   "cell_type": "markdown",
   "metadata": {},
   "source": [
    "b) Modificar el script para guardar los resultados en un archivo de texto."
   ]
  },
  {
   "cell_type": "code",
   "execution_count": 5,
   "metadata": {},
   "outputs": [
    {
     "name": "stdout",
     "output_type": "stream",
     "text": [
      "0! = 1\n",
      "1! = 1\n",
      "2! = 2\n",
      "3! = 6\n",
      "4! = 24\n",
      "5! = 120\n",
      "6! = 720\n",
      "7! = 5040\n",
      "8! = 40320\n",
      "9! = 362880\n",
      "10! = 3628800\n",
      "11! = 39916800\n",
      "12! = 479001600\n",
      "13! = 6227020800\n",
      "14! = 87178291200\n",
      "15! = 1307674368000\n",
      "16! = 20922789888000\n",
      "17! = 355687428096000\n",
      "18! = 6402373705728000\n",
      "19! = 121645100408832000\n"
     ]
    }
   ],
   "source": [
    "file = open(\"factoriales.dat\", \"w\")\n",
    "\n",
    "factorial = 1\n",
    "for i in range(20):\n",
    "    if i == 0:\n",
    "        factorial = 1\n",
    "    else:\n",
    "        factorial = factorial * i\n",
    "    file.write(f\"{i}! = {factorial}\\n\")\n",
    "\n",
    "file.close()\n",
    "\n",
    "!cat factoriales.dat"
   ]
  },
  {
   "cell_type": "markdown",
   "metadata": {},
   "source": [
    "5. Escribir una función que dadas dos listas, calcule el producto escalar."
   ]
  },
  {
   "cell_type": "code",
   "execution_count": 6,
   "metadata": {},
   "outputs": [
    {
     "data": {
      "text/plain": [
       "14"
      ]
     },
     "execution_count": 6,
     "metadata": {},
     "output_type": "execute_result"
    }
   ],
   "source": [
    "def producto_escalar(l1, l2):\n",
    "    res = 0\n",
    "    for i in range(len(l1)):\n",
    "        res += l1[i] * l2[i]\n",
    "    return res\n",
    "\n",
    "producto_escalar([1, 2, 3], [1, 2, 3])"
   ]
  },
  {
   "cell_type": "markdown",
   "metadata": {},
   "source": [
    "6. Escribir una función que dadas dos listas, calcule el producto vectorial."
   ]
  },
  {
   "cell_type": "code",
   "execution_count": 7,
   "metadata": {},
   "outputs": [
    {
     "data": {
      "text/plain": [
       "[0, 0, 1]"
      ]
     },
     "execution_count": 7,
     "metadata": {},
     "output_type": "execute_result"
    }
   ],
   "source": [
    "def producto_vectorial(l1, l2):\n",
    "    res = [0, 0, 0]\n",
    "    res[0] = l1[1] * l2[2] - l1[2] * l2[1]\n",
    "    res[1] = - l1[0] * l2[2] + l2[0] * l1[2]\n",
    "    res[2] = l1[0] * l2[1] - l2[0] * l1[1]\n",
    "    return res\n",
    "\n",
    "producto_vectorial([1, 0, 0], [0, 1, 0])"
   ]
  },
  {
   "cell_type": "markdown",
   "metadata": {},
   "source": [
    "7. Escribir una función que encuentre las raíces de ecuaciones cuadráticas del tipo $y(x) = a x^2 + b x + c$, cuyas constantes sean argumento de la función. Si la resolución es posible, devolver los dos valores. Si el discriminante de la ecuación es negativo, avisar sobre la imposibilidad de resolución en el conjunto de los reales."
   ]
  },
  {
   "cell_type": "code",
   "execution_count": 8,
   "metadata": {},
   "outputs": [
    {
     "data": {
      "text/plain": [
       "(5.0, -5.0)"
      ]
     },
     "execution_count": 8,
     "metadata": {},
     "output_type": "execute_result"
    }
   ],
   "source": [
    "import numpy as np\n",
    "\n",
    "def raices(a, b, c):\n",
    "    determinante = b ** 2 - 4 * a * c\n",
    "    if determinante < 0:\n",
    "        print(\"no se puede resolver en el conjunto de los reales\")\n",
    "    else:\n",
    "        sq = np.sqrt(determinante)\n",
    "        x1 = (- b + sq) / (2 * a)\n",
    "        x2 = (- b - sq) / (2 * a)\n",
    "        return x1, x2\n",
    "\n",
    "raices(1, 0, -25)"
   ]
  },
  {
   "cell_type": "markdown",
   "metadata": {},
   "source": [
    "8. Graficar una función cuadrática en alguna zona de su dominio, usando `matplotlib.pyplot` y listas."
   ]
  },
  {
   "cell_type": "code",
   "execution_count": 9,
   "metadata": {},
   "outputs": [
    {
     "data": {
      "image/png": "[encoded data removed]",
      "text/plain": [
       "<Figure size 640x480 with 1 Axes>"
      ]
     },
     "metadata": {},
     "output_type": "display_data"
    }
   ],
   "source": [
    "import matplotlib.pyplot as plt\n",
    "\n",
    "def cuadratica(x, a, b, c):\n",
    "    return [a * e**2 + b * e + c for e in x]\n",
    "\n",
    "dominio = list(range(-10, 11))\n",
    "\n",
    "plt.plot(dominio, cuadratica(dominio, 1, 0, -25))\n",
    "plt.show()"
   ]
  },
  {
   "cell_type": "markdown",
   "metadata": {},
   "source": [
    "9. Graficar una función cuadrática en alguna zona de su dominio, usando `matplotlib.pyplot` y `numpy`."
   ]
  },
  {
   "cell_type": "code",
   "execution_count": 10,
   "metadata": {},
   "outputs": [
    {
     "data": {
      "image/png": "[encoded data removed]",
      "text/plain": [
       "<Figure size 640x480 with 1 Axes>"
      ]
     },
     "metadata": {},
     "output_type": "display_data"
    }
   ],
   "source": [
    "dominio = np.arange(-10, 10, 0.001)\n",
    "\n",
    "plt.plot(dominio, dominio**2 - 25)\n",
    "plt.show()"
   ]
  }
 ],
 "metadata": {
  "kernelspec": {
   "display_name": "Python 3",
   "language": "python",
   "name": "python3"
  },
  "language_info": {
   "codemirror_mode": {
    "name": "ipython",
    "version": 3
   },
   "file_extension": ".py",
   "mimetype": "text/x-python",
   "name": "python",
   "nbconvert_exporter": "python",
   "pygments_lexer": "ipython3",
   "version": "3.8.10"
  }
 },
 "nbformat": 4,
 "nbformat_minor": 4
}
