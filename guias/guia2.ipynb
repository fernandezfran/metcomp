{
 "cells": [
  {
   "cell_type": "markdown",
   "metadata": {},
   "source": [
    "# Guía 2: Ecuaciones diferenciales ordinarias"
   ]
  },
  {
   "cell_type": "markdown",
   "metadata": {},
   "source": [
    "## Aspectos teóricos"
   ]
  },
  {
   "cell_type": "markdown",
   "metadata": {},
   "source": [
    "1. Escriba la ecuación del método de Euler y derive de allí con la expansión de Taylor un método con un orden de error mayor para la siguiente ecuación: $$\\frac{dy}{dx} = f(x, y).$$\n",
    "2. Cuando conocemos la forma analítica de $f(x, y)$ y es suficientemente simple como para diferenciarla, podemos utilizar los métodos de Euler o Taylor; de lo contrario podemos utilizar el método de Adams-Bashforth. Derive la expresión de Adams-Bashforth de dos pasos.\n",
    "3. Deduzca los métodos de Runge-Kutta de segundo orden."
   ]
  },
  {
   "cell_type": "markdown",
   "metadata": {},
   "source": [
    "## Ejercicios de programación"
   ]
  },
  {
   "cell_type": "markdown",
   "metadata": {},
   "source": [
    "1. Escriba una serie de códigos para integrar la ecuación diferencial $$\\frac{dy}{dx} = - x y$$ con $x_0 = 0$, $x_f = 3$ e $y(0) = 1$, mediante los métodos de Euler y Adams-Bashforth de dos pasos. Compare los errores cometidos por cada uno de ellos en la estimación de $y(3)$, usando distintos valores de $h$. ¿Concuerdan los errores obtenidos con el orden del error estimado?"
   ]
  },
  {
   "cell_type": "code",
   "execution_count": null,
   "metadata": {},
   "outputs": [],
   "source": []
  },
  {
   "cell_type": "markdown",
   "metadata": {},
   "source": [
    "2. Usando RK4, escribir un código para integrar el siguiente sistema de educaciones diferenciales de primer orden acopladas $$\\frac{dx}{dt} = x - xy$$ $$\\frac{dy}{dt} = xy - y.$$ Este sistema es conocido como el modelo de Lotka-Volterra ([libro](https://searchworks.stanford.edu/view/941805)) y fue propuesto en el año 1920 con el objeto de ser aplicado al estudio de variaciones en las poblaciones de sistemas predador-presa. También ha sido usado como mecanismo de la reacción química modelo $$A + X \\rightarrow X$$ $$X + Y \\rightarrow 2 Y$$ $$Y \\rightarrow B$$ Nótese que el sistema de ecuaciones de Lotka-Volterra implica que la concentración de A es independiente del tiempo y que $k_1 A = k_2 = k_3 = 1$. En este ejercicio esbozaremos el \"retrato de fases\" de este interesante sistema dinámico. Para ello comenzaremos enumerando los puntos fijos del sistema de ecuaciones de Lotka-Volterra: existe un punto fijo trivial en (0, 0) y uno no trivial en (1, 1). Mediante un análisis de estabilidad lineal puede determinarse que el primero es un punto de ensilladura, mientras que el segundo es un centro. Además puede demostrarse que este sistema admite una constante de movimiento $$C = (X + Y) - \\ln(X) - \\ln(Y)$$ Integre el sistema de ecuaciones diferenciales con un valor adecuado de $\\Delta t$, grafique las trayectorias correspondientes en el espacio de las fases (plano (X, Y)), grafique los valores de $X$ e $Y$ en función de $t$. Compruebe que la estabilidad de los puntos fijos es la mencionada anteriormente. Compruebe que $C$ es una cantidad conservada durante la evolución temporal del sistema. ¿Cómo afecta $\\Delta t$ a la conservación de $C$?"
   ]
  },
  {
   "cell_type": "code",
   "execution_count": null,
   "metadata": {},
   "outputs": [],
   "source": []
  },
  {
   "cell_type": "markdown",
   "metadata": {},
   "source": [
    "3. Modifique el código anterior e integre el sistema de ecuaciones $$\\frac{dp_x}{dt} = - \\gamma_x x$$ $$\\frac{dx}{dt} = p_x $$ $$\\frac{dp_y}{dt} = - \\gamma_y y$$ $$\\frac{dy}{dt} = p_y$$ que describe el movimiento de dos osciladores armónicos desacoplados. Use como condiciones iniciales $p_x = 0$, $p_y = 0$, $x = 2$ e $y = 2$, integre las ecuaciones de movimiento usando valores de $\\gamma_x$ y $\\gamma_y$ tales como un caso $\\sqrt{\\gamma_x}{\\gamma_y}$ sea un número racional (ej $1/2$) mientras que en otro sea un número irracional (ej $1/\\sqrt{2}$). Grafique las trayectorias en el plano (x, y) y compare los resultados en ambos casos. Grafique también las trayectorias de los dos osciladores por separado (ej plano (p$_x$, x) o (p$_y$, y)), y compare con el resultado exacto. Mayor información sobre este sistema dinámico puede obtenerse en [este libro](https://www.wiley.com/en-us/Molecular+Dynamics+Simulation%3A+Elementary+Methods-p-9780471184393), capítulo 2."
   ]
  },
  {
   "cell_type": "code",
   "execution_count": null,
   "metadata": {},
   "outputs": [],
   "source": []
  },
  {
   "cell_type": "markdown",
   "metadata": {},
   "source": [
    "4. Integre en forma numérica el siguiente sistema de ecuaciones diferenciales (modelo de Lorenz). Use para ello el código del ejercicio 2. $$\\frac{dx}{dt} = 10 (y - x)$$ $$\\frac{dy}{dt} = x (r - z) - y$$ $$\\frac{dz}{dt} = x y - \\frac{8}{3} z$$"
   ]
  },
  {
   "cell_type": "code",
   "execution_count": null,
   "metadata": {},
   "outputs": [],
   "source": []
  },
  {
   "cell_type": "markdown",
   "metadata": {},
   "source": [
    "a. Corra el código para valores de $r$ menores que 1 ($r < 1$), usando como condición inicial algún punto en las proximidades de (0, 0, 0)."
   ]
  },
  {
   "cell_type": "code",
   "execution_count": null,
   "metadata": {},
   "outputs": [],
   "source": []
  },
  {
   "cell_type": "markdown",
   "metadata": {},
   "source": [
    "b. Integre nuevamente con valores de $r > 28$ y condiciones iniciales cercanas a (0, 1, 0). Dibuje la trayectoria resultante en el espacio de las fases (3D)."
   ]
  },
  {
   "cell_type": "code",
   "execution_count": null,
   "metadata": {},
   "outputs": [],
   "source": []
  },
  {
   "cell_type": "markdown",
   "metadata": {},
   "source": [
    "c. Realice dos corridas como las descriptas en el item anterior, pero cambie levemente las condiciones iniciales en una de ellas. Calcule la diferencia en una de las variables a lo largo de la trayectoria $[x_1(t) - x_2(t)]$ y grafique la misma versus $t$. ¿Qué puede concluir sobre a sensibilidad a las condiciones iniciales?"
   ]
  },
  {
   "cell_type": "code",
   "execution_count": null,
   "metadata": {},
   "outputs": [],
   "source": []
  }
 ],
 "metadata": {
  "kernelspec": {
   "display_name": "Python 3",
   "language": "python",
   "name": "python3"
  },
  "language_info": {
   "codemirror_mode": {
    "name": "ipython",
    "version": 3
   },
   "file_extension": ".py",
   "mimetype": "text/x-python",
   "name": "python",
   "nbconvert_exporter": "python",
   "pygments_lexer": "ipython3",
   "version": "3.8.10"
  }
 },
 "nbformat": 4,
 "nbformat_minor": 4
}
