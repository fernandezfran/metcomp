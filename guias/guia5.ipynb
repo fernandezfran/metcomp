{
 "cells": [
  {
   "cell_type": "markdown",
   "metadata": {},
   "source": [
    "# Guía 5: Modelo de Ising"
   ]
  },
  {
   "cell_type": "markdown",
   "metadata": {},
   "source": [
    "Generar configuraciones del equilibrio para un sistema monodimensional de $N$ espines interactuantes dispuestos regularmente y descriptos por el siguiente Hamiltoniano: $$\\mathcal{H} = - B \\mu \\sum_{i=1}^N \\sigma_i - J \\sum_{\\langle i, j \\rangle} \\sigma_i \\sigma_j,$$ donde $\\sigma_i$ es la dirección del espín del sitio $i$ y puede tomar los valores $\\pm 1$, $\\mu$ es su momento magnético, $B$ el campo magnético externo y $J$ la constante de acoplamiento espín-espín. El símbolo $\\langle i, j \\rangle$ indica que la suma se realiza sobre pares de espines ubicados en sitios de primeros vecinos."
   ]
  },
  {
   "cell_type": "markdown",
   "metadata": {},
   "source": [
    "## Ayuda\n",
    "\n",
    "Considerese $B=\\mu=J=1$. Seguramente va a ser necesario usar `NumPy` y `matplotlib`:"
   ]
  },
  {
   "cell_type": "code",
   "execution_count": null,
   "metadata": {},
   "outputs": [],
   "source": [
    "import matplotlib.pyplot as plt\n",
    "import numpy as np"
   ]
  },
  {
   "cell_type": "markdown",
   "metadata": {},
   "source": [
    "Escribir una función que inicialice los $N$ espines en alguna configuración deseada"
   ]
  },
  {
   "cell_type": "code",
   "execution_count": null,
   "metadata": {},
   "outputs": [],
   "source": [
    "def init(_):\n",
    "    pass"
   ]
  },
  {
   "cell_type": "markdown",
   "metadata": {},
   "source": [
    "Escribir una función que para una configuración calcule la magnetización $M = \\mu \\sum_{i=1}^N \\sigma_i$."
   ]
  },
  {
   "cell_type": "code",
   "execution_count": null,
   "metadata": {},
   "outputs": [],
   "source": [
    "def magnetizacion(_):\n",
    "    pass"
   ]
  },
  {
   "cell_type": "markdown",
   "metadata": {},
   "source": [
    "Escribir una función que calcule el hamiltoniano del sistema para una dada configuración de espínes monodimiensional."
   ]
  },
  {
   "cell_type": "code",
   "execution_count": null,
   "metadata": {},
   "outputs": [],
   "source": [
    "def hamiltoniano(_):\n",
    "    pass"
   ]
  },
  {
   "cell_type": "markdown",
   "metadata": {},
   "source": [
    "Escribir una función que recorra la grilla de forma aleatoria y haga los pasos de Metropolis a una dada temperatura (_Sugerencia: notar que el cambio de energía que provocaría un cambio en el signo del espín del sitio $i$ puede calcularse sólo con sus primeros vecinos_)"
   ]
  },
  {
   "cell_type": "code",
   "execution_count": null,
   "metadata": {},
   "outputs": [],
   "source": [
    "def metropolis(_):\n",
    "    pass"
   ]
  },
  {
   "cell_type": "markdown",
   "metadata": {},
   "source": [
    "Ahora ya se tiene todo lo necesario para escribir un algoritmo que realice $M$ pasos de Monte Carlo con el modelo de Ising, calcular la energía y la magnetización en función de los pasos para distintas temperaturas, dar los valores medios, visualizar los espines, etc..."
   ]
  },
  {
   "cell_type": "code",
   "execution_count": null,
   "metadata": {},
   "outputs": [],
   "source": []
  }
 ],
 "metadata": {
  "kernelspec": {
   "display_name": "Python 3",
   "language": "python",
   "name": "python3"
  },
  "language_info": {
   "codemirror_mode": {
    "name": "ipython",
    "version": 3
   },
   "file_extension": ".py",
   "mimetype": "text/x-python",
   "name": "python",
   "nbconvert_exporter": "python",
   "pygments_lexer": "ipython3",
   "version": "3.8.10"
  }
 },
 "nbformat": 4,
 "nbformat_minor": 4
}
