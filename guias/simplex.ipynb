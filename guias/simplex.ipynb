{
  "nbformat": 4,
  "nbformat_minor": 0,
  "metadata": {
    "colab": {
      "provenance": []
    },
    "kernelspec": {
      "name": "python3",
      "display_name": "Python 3"
    },
    "language_info": {
      "name": "python"
    }
  },
  "cells": [
    {
      "cell_type": "code",
      "execution_count": null,
      "metadata": {
        "colab": {
          "base_uri": "https://localhost:8080/"
        },
        "id": "Rs2hb8jbq5lH",
        "outputId": "b05f7896-c93d-4aca-abce-3c6cac85b864"
      },
      "outputs": [
        {
          "output_type": "stream",
          "name": "stdout",
          "text": [
            "[0. 1.] 1.0\n"
          ]
        }
      ],
      "source": [
        "import numpy as np\n",
        "\n",
        "# Funcion a minimizar\n",
        "def func(x):\n",
        "    return x[0]**2 + (x[1]-1)**2 + 1\n",
        "\n",
        "# Dimension (del dominio de func)\n",
        "n = 2\n",
        "\n",
        "# Tolerancia e iteraciones maximas\n",
        "tol=1e-6\n",
        "max_iter=1000\n",
        "\n",
        "# Parametros (proporciones) para la...\n",
        "alpha=1.0   # ...reflexión\n",
        "beta=0.5    # ...contracción\n",
        "gamma=2.0   # ...expansión\n",
        "delta=0.4   # ...reducción\n",
        "\n",
        "simplex = np.array([[0.0, 0.0], [1.0, 0.0], [0.0, 1.0]])\n",
        "\n",
        "for _ in range(max_iter):\n",
        "\n",
        "    # Ordeno los vertices de acuerdo a su valor de func (de menor a mayor)\n",
        "    valores = np.array([func(vertex) for vertex in simplex])\n",
        "    indices = np.argsort(valores)\n",
        "    simplex = simplex[indices]\n",
        "\n",
        "    # Calculo el centro de los mejors n vertices\n",
        "    centro = np.mean(simplex[:-1], axis=0)\n",
        "\n",
        "    # Reflexión\n",
        "    reflexion = centro + alpha * (centro - simplex[-1])\n",
        "    f_reflexion = func(reflexion)\n",
        "\n",
        "    if valores[0] <= f_reflexion < valores[-2]:\n",
        "        simplex[-1] = reflexion\n",
        "\n",
        "    elif f_reflexion < valores[0]:\n",
        "\n",
        "        # Expansión\n",
        "        expansion = centro + gamma * (reflexion - centro)\n",
        "        f_expansion = func(expansion)\n",
        "\n",
        "        if f_expansion < f_reflexion:\n",
        "            simplex[-1] = expansion\n",
        "        else:\n",
        "            simplex[-1] = reflexion\n",
        "    else:\n",
        "\n",
        "        # Contracción\n",
        "        contraccion = centro + beta * (simplex[-1] - centro)\n",
        "        f_contraccion = func(contraccion)\n",
        "\n",
        "        if f_contraccion < valores[-1]:\n",
        "            simplex[-1] = contraccion\n",
        "        else:\n",
        "\n",
        "            # Reducción\n",
        "            for i in range(1, n + 1):\n",
        "                simplex[i] = simplex[0] + delta * (simplex[i] - simplex[0])\n",
        "\n",
        "    # Compruebo convergencia\n",
        "    if np.all(np.abs(simplex[0] - simplex[-1]) < tol):\n",
        "        break\n",
        "\n",
        "print(simplex[0], func(simplex[0]))\n",
        "\n"
      ]
    },
    {
      "cell_type": "code",
      "source": [],
      "metadata": {
        "id": "QfQKSUprrwvA"
      },
      "execution_count": null,
      "outputs": []
    }
  ]
}