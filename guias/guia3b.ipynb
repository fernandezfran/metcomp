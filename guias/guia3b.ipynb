{
 "cells": [
  {
   "cell_type": "markdown",
   "metadata": {},
   "source": [
    "# Guía 4: Dinámica Cuántica"
   ]
  },
  {
   "cell_type": "markdown",
   "metadata": {},
   "source": [
    "## Ejercicios de programación"
   ]
  },
  {
   "cell_type": "markdown",
   "metadata": {},
   "source": [
    "1. Teniendo en cuenta sus resultados del último ejercicio de la guía anterior en el que resolvió numéricamente la ecuación diferencial $$u''(x) = -k^2 u(x)$$ en el intervalo $x = [0, 1]$ con las condiciones en la frontera de $u(0) = u(1) = 0$, introduzca ahora una evolución temporal. En este caso, al ser independiente del tiempo se tiene $$u_n(x, t) = u_n(x, 0) \\cdot f_n(t),$$ donde $$f_n(t) = e^{-i k_n t}$$ Grafique la evolución para un estado simétrico y uno antisimétrico. Realice lo mismo con una combinación lineal de ambos estados.\n",
    "\n",
    "Como ayuda se da un script para crear una visualización en tiempo real dentro del colab."
   ]
  },
  {
   "cell_type": "code",
   "execution_count": null,
   "metadata": {},
   "outputs": [],
   "source": [
    "import time\n",
    "from IPython import display\n",
    "import matplotlib.pyplot as plt\n",
    "import numpy as np\n",
    "\n",
    "# defino los puntos en x para los que está definida u(x)\n",
    "x = np.linspace(0, 2*np.pi)\n",
    "\n",
    "# loop temporal\n",
    "for t in np.linspace(0, 1, num=10):\n",
    "    # grafico espacial para tiempo t\n",
    "    plt.plot(x, np.sin(x) * np.sin(-t))\n",
    "    \n",
    "    # configuración del grafico: límites, labels y título\n",
    "    plt.xlim(0, 2 * np.pi)\n",
    "    plt.ylim(-1, 1)\n",
    "    plt.xlabel(\"x\")\n",
    "    plt.ylabel(\"u(x)\")\n",
    "    plt.title(f\"tiempo={t:.2f}\")\n",
    "    \n",
    "    # muestro ese tiempo por 0.5 segundos\n",
    "    display.display(plt.gcf())\n",
    "    time.sleep(0.5)\n",
    "    \n",
    "    # limpio el grafico (con configuración y todo para que no se superponga\n",
    "    # lo del tiempo anterior\n",
    "    plt.cla()\n",
    "    display.clear_output(wait=True)\n",
    "    \n",
    "# cierro el gráfico una vez que termina la visualización\n",
    "display.clear_output()"
   ]
  },
  {
   "cell_type": "markdown",
   "metadata": {},
   "source": [
    "2. Ahora al problema anterior realicelo considerando $k^2 = 2(E - V(x))$ para un potencial $V(x)$ que sea una barrera en el centro de la caja. _Ayuda_: puede ser de utilidad consultar el siguiente [trabajo](https://www.researchgate.net/publication/281409877_Exact_Solutions_of_the_Quantum_Double-Square-Well_Potential)."
   ]
  },
  {
   "cell_type": "code",
   "execution_count": null,
   "metadata": {},
   "outputs": [],
   "source": []
  }
 ],
 "metadata": {
  "kernelspec": {
   "display_name": "Python 3",
   "language": "python",
   "name": "python3"
  },
  "language_info": {
   "codemirror_mode": {
    "name": "ipython",
    "version": 3
   },
   "file_extension": ".py",
   "mimetype": "text/x-python",
   "name": "python",
   "nbconvert_exporter": "python",
   "pygments_lexer": "ipython3",
   "version": "3.8.10"
  }
 },
 "nbformat": 4,
 "nbformat_minor": 4
}
