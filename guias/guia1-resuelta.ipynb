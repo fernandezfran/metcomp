{
 "cells": [
  {
   "cell_type": "markdown",
   "metadata": {},
   "source": [
    "# Guía 1: Operaciones matemáticas básicas"
   ]
  },
  {
   "cell_type": "markdown",
   "metadata": {},
   "source": [
    "## Aspectos teóricos"
   ]
  },
  {
   "cell_type": "markdown",
   "metadata": {},
   "source": [
    "1. Deduzca la fórmula de 5 puntos para la derivación numérica.\n",
    "2. Deduzca la generalización de la regla de Simpson.\n",
    "3. Dada la integral $$\\int_1^b x^{-2} g(x) dx$$ donde $g(x)$ es una función que tiende a un valor constante para grandes valores de $x$, realice un cambio de variables que la transforme en una expresión más adecuada para su evolución numérica, cuando $b$ toma valores muy grandes.\n",
    "4. Escriba las ecuaciones utilizadas en el método de Newton-Raphson y el de la Secante.\n",
    "5. Suponga que usted desea ajustar la función $f(x; a_1, a_2,..., a_k)$ con parámetros $a_1, a_2, ..., a_k$ a partir de un conjunto de puntos $\\lbrace x_i, y_i \\rbrace$ con $i=1, ..., N$. Escriba formalmente la función a minimizar en base al método de los cuadrados mínimos."
   ]
  },
  {
   "cell_type": "markdown",
   "metadata": {},
   "source": [
    "## Ejercicios de programación"
   ]
  },
  {
   "cell_type": "markdown",
   "metadata": {},
   "source": [
    "1. Escriba una función en Python para encontrar numéricamente las raíces de $f(x) = x^2 - 5$. Compare el número de iteraciones necesarias para lograr la convergencia con distintos valores de tolerancia. Compare para los distintos métodos de búsqueda: Bisección, Newton-Raphson y Secante."
   ]
  },
  {
   "cell_type": "code",
   "execution_count": 1,
   "metadata": {},
   "outputs": [
    {
     "name": "stdout",
     "output_type": "stream",
     "text": [
      "0.01 9 3 5\n",
      "0.001 13 4 5\n",
      "0.0001 16 4 6\n",
      "1e-05 19 4 6\n",
      "1e-06 23 4 7\n",
      "1e-07 26 5 7\n",
      "1e-08 29 5 7\n",
      "1e-09 33 5 8\n",
      "1e-10 36 5 8\n",
      "1e-11 39 5 8\n",
      "1e-12 43 5 8\n",
      "1e-13 46 6 8\n",
      "1e-14 49 6 9\n",
      "1e-15 53 6 9\n",
      "1e-16 55 6 9\n"
     ]
    }
   ],
   "source": [
    "import numpy as np\n",
    "\n",
    "def func(x):\n",
    "    return x**2 - 5\n",
    "\n",
    "def dfunc(x):\n",
    "    return 2 * x\n",
    "\n",
    "def biseccion(func, a, b, tol=1e-6):\n",
    "    x = (a + b) / 2\n",
    "    it = 0\n",
    "    \n",
    "    while (b - a) > tol:\n",
    "        if func(a) * func(b) <= 0:\n",
    "            b = x\n",
    "        else:\n",
    "            a = x\n",
    "        x = (a + b) / 2\n",
    "        it += 1\n",
    "\n",
    "    return x, it\n",
    "\n",
    "def newton_raphson(func, dfunc, x0, tol=1e-6):\n",
    "    it = 0\n",
    "    while True:\n",
    "        x = x0 - (func(x0) / dfunc(x0))\n",
    "        \n",
    "        if np.abs(x - x0) < tol:\n",
    "            break\n",
    "            \n",
    "        it += 1\n",
    "        \n",
    "        x0 = x\n",
    "    \n",
    "    return x, it\n",
    "    \n",
    "def secante(func, x0, x1, tol=1e-6):\n",
    "    it = 0\n",
    "\n",
    "    for _ in range(1000):\n",
    "        x = x1 - func(x1) * (x1 - x0) / (func(x1) - func(x0))\n",
    "        \n",
    "        if np.abs((x - x1) / x1) < tol:\n",
    "            return x, it\n",
    "        \n",
    "        x0, x1 = x1, x        \n",
    "        it += 1\n",
    "        \n",
    "    return x, it\n",
    "\n",
    "tols = np.logspace(-2, -16, num=15)\n",
    "for tol in tols:\n",
    "    \n",
    "    xb, it_b = biseccion(func, 0, 5, tol=tol)\n",
    "    xnr, it_nr = newton_raphson(func, dfunc, 5, tol=tol)\n",
    "    xs, it_s = secante(func, 0, 1, tol=tol)\n",
    "    \n",
    "    print(tol, it_b, it_nr, it_s)"
   ]
  },
  {
   "cell_type": "markdown",
   "metadata": {},
   "source": [
    "2. Escriba una función en Python para evaluar la derivada de la función $\\sin(x)$ en el intervalo $[2\\pi, 4\\pi]$. Analice el resultado para diferentes valores del incremento finito $h$. Estudie cómo varía el error numérico total en función de $h$ y de la precisión utilizada. Analice el error local en cada zona del dominio."
   ]
  },
  {
   "cell_type": "code",
   "execution_count": 2,
   "metadata": {},
   "outputs": [
    {
     "data": {
      "image/png": "[encoded data removed]",
      "text/plain": [
       "<Figure size 640x480 with 1 Axes>"
      ]
     },
     "metadata": {},
     "output_type": "display_data"
    }
   ],
   "source": [
    "import matplotlib.pyplot as plt\n",
    "\n",
    "def func(x):\n",
    "    return np.sin(x)\n",
    "\n",
    "def dfunc(x):\n",
    "    return np.cos(x)\n",
    "\n",
    "def tres_puntos(func, x, h):\n",
    "    return (func(x + h) - func(x - h)) / (2 * h)\n",
    "\n",
    "x = np.linspace(2 * np.pi, 4 * np.pi)\n",
    "\n",
    "plt.scatter(x, np.abs(dfunc(x) - tres_puntos(func, x, 0.01)))\n",
    "plt.show()"
   ]
  },
  {
   "cell_type": "markdown",
   "metadata": {},
   "source": [
    "3. Escriba una función en Python para evaluar la integral definida de la función $\\cos(x)$ en el intervalo $[0, 1]$. Estudie el efecto del número de particiones del intervalo sobre el error numérico."
   ]
  },
  {
   "cell_type": "code",
   "execution_count": 3,
   "metadata": {},
   "outputs": [
    {
     "name": "stdout",
     "output_type": "stream",
     "text": [
      "0.8414709848253118 0.8414709848078965 1.7415291431177593e-11\n"
     ]
    }
   ],
   "source": [
    "def func(x):\n",
    "    return np.cos(x)\n",
    "\n",
    "def simpson(func, a, b, intervalos):\n",
    "    npuntos = intervalos + 1\n",
    "    x = np.linspace(a, b, num=npuntos)\n",
    "\n",
    "    h = 1 / intervalos\n",
    "    \n",
    "    factor = 2\n",
    "    integral = func(x[0])\n",
    "    for i in range(1, npuntos - 1):\n",
    "        if factor == 2:\n",
    "            factor = 4\n",
    "        else:\n",
    "            factor = 2\n",
    "        \n",
    "        integral = integral + factor * func(x[i])\n",
    "        \n",
    "    integral = integral + func(x[npuntos - 1])\n",
    "    \n",
    "    integral = h * integral / 3 \n",
    "    \n",
    "    return integral \n",
    "    \n",
    "aproximacion = simpson(func, 0, 1, 128)\n",
    "exacta = np.sin(1)\n",
    "print(aproximacion, exacta, aproximacion - exacta)"
   ]
  },
  {
   "cell_type": "markdown",
   "metadata": {},
   "source": [
    "4. Use la función `simplex` proporcionada para encontrar la distancia interatómica de equilibrio de la molécula NaCl a partir del siguiente potencial de interacción entre los iones\n",
    "$$\n",
    "V(r) = - \\frac{e^2}{r} + \\alpha e^{- \\frac{r}{\\rho}}\n",
    "$$\n",
    "donde $e^2 = 14.4 eV \\cdot A$, $\\alpha = 1.09 \\cdot 10^3 eV$ y $\\rho = 0.33 A$."
   ]
  },
  {
   "cell_type": "code",
   "execution_count": 4,
   "metadata": {},
   "outputs": [
    {
     "data": {
      "text/plain": [
       "       message: Optimization terminated successfully.\n",
       "       success: True\n",
       "        status: 0\n",
       "           fun: -5.247489118341834\n",
       "             x: [ 2.361e+00]\n",
       "           nit: 13\n",
       "          nfev: 26\n",
       " final_simplex: (array([[ 2.361e+00],\n",
       "                       [ 2.360e+00]]), array([-5.247e+00, -5.247e+00]))"
      ]
     },
     "execution_count": 4,
     "metadata": {},
     "output_type": "execute_result"
    }
   ],
   "source": [
    "import numpy as np\n",
    "from scipy.optimize import minimize\n",
    "\n",
    "func = lambda r: 1.09e3 * np.exp(-r / 0.33) - 14.4 / r\n",
    "minimize(func, 2.0, method=\"Nelder-Mead\")"
   ]
  },
  {
   "cell_type": "markdown",
   "metadata": {},
   "source": [
    "5. Usar la funció `simplex` proporcionada para ajustar la función $f(x, a_1, a_2) = e^{-a_1 x} + e^{-a_2 x}$ al conjunto de datos que se encuentra en el archivo `datos.txt`. Tenga en cuenta el ejercicio 5 de la parte teórica. (Sugerencia: Buscar los valores $a_1$ y $a_2$ en el intervalor $[0,1]$)."
   ]
  },
  {
   "cell_type": "code",
   "execution_count": 5,
   "metadata": {},
   "outputs": [
    {
     "data": {
      "text/plain": [
       "<matplotlib.legend.Legend at 0x7f5f177c2940>"
      ]
     },
     "execution_count": 5,
     "metadata": {},
     "output_type": "execute_result"
    },
    {
     "data": {
      "image/png": "[encoded data removed]",
      "text/plain": [
       "<Figure size 640x480 with 1 Axes>"
      ]
     },
     "metadata": {},
     "output_type": "display_data"
    }
   ],
   "source": [
    "import matplotlib.pyplot as plt\n",
    "import numpy as np\n",
    "from scipy.optimize import minimize\n",
    "\n",
    "x, y = [], []\n",
    "f = open(\"datos.txt\", \"r\")\n",
    "\n",
    "while True:\n",
    "    l = f.readline()\n",
    "    if l == \"\":\n",
    "        break\n",
    "    x.append(l.split()[0])\n",
    "    y.append(l.split()[1])\n",
    "\n",
    "X = np.array(x, dtype=float)\n",
    "Y = np.array(y, dtype=float)\n",
    "\n",
    "def func(a):\n",
    "    return np.sum((Y - (np.exp(-a[0] * X) + np.exp(-a[1] * X)))**2)\n",
    "\n",
    "res = minimize(func, [1, 1], method=\"Nelder-Mead\")\n",
    "\n",
    "plt.scatter(X, Y, label=\"datos\")\n",
    "plt.plot(X, np.exp(-res.x[0] * X) + np.exp(-res.x[1] * X), c=\"k\", label=\"ajuste\")\n",
    "\n",
    "plt.xlabel(\"x\")\n",
    "plt.ylabel(\"y\")\n",
    "\n",
    "plt.grid()\n",
    "plt.legend()"
   ]
  }
 ],
 "metadata": {
  "kernelspec": {
   "display_name": "Python 3 (ipykernel)",
   "language": "python",
   "name": "python3"
  },
  "language_info": {
   "codemirror_mode": {
    "name": "ipython",
    "version": 3
   },
   "file_extension": ".py",
   "mimetype": "text/x-python",
   "name": "python",
   "nbconvert_exporter": "python",
   "pygments_lexer": "ipython3",
   "version": "3.9.2"
  }
 },
 "nbformat": 4,
 "nbformat_minor": 4
}
