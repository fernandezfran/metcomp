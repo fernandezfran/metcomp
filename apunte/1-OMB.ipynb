{
 "cells": [
  {
   "cell_type": "markdown",
   "metadata": {},
   "source": [
    "# Operaciones matemáticas básicas"
   ]
  },
  {
   "cell_type": "markdown",
   "metadata": {},
   "source": [
    "Existen tres operaciones numéricas relevantes en el modelado computacional de la mayor parte de los sistemas físicos: \n",
    "1. diferenciación, \n",
    "2. cuadratura, \n",
    "3. búsqueda de raíces.\n",
    "\n",
    "Aún en casos en los que una función $f(x)$ sea conocida análiticamente, no siempre es posible encontrar una fórmula explícita para obtener dichas operaciones matemáticas. En otros casos puede suceder que sólo tengamos a $f$ evaluada en algunos puntos discretos de $x$, por ejemplo, al realizar un experimento. En ambas situaciones podemos aplicar fórmulas aproximadas.\n",
    "\n",
    "Los códigos presentados acá de ejemplo, que se discuten con mayor profundidad en el apunte de la materia, están implementados utilizando el lenguaje de programación Python y sus librerías estándar."
   ]
  },
  {
   "cell_type": "markdown",
   "metadata": {},
   "source": [
    "## Diferenciación numérica"
   ]
  },
  {
   "cell_type": "markdown",
   "metadata": {},
   "source": [
    "En el apunte de la materia se derivó la siguiente formula para la derivada\n",
    "$$\n",
    "f'(x) = \\frac{f(x + h) - f(x - h)}{2h}.\n",
    "$$"
   ]
  },
  {
   "cell_type": "code",
   "execution_count": 1,
   "metadata": {},
   "outputs": [
    {
     "name": "stdout",
     "output_type": "stream",
     "text": [
      "h=1.0e+01, error=5.696959e-01\n",
      "h=1.0e+00, error=8.565359e-02\n",
      "h=1.0e-01, error=9.000537e-04\n",
      "h=1.0e-02, error=9.004993e-06\n",
      "h=1.0e-03, error=9.005045e-08\n",
      "h=1.0e-04, error=9.004295e-10\n",
      "h=1.0e-05, error=1.114087e-11\n",
      "h=1.0e-06, error=-2.771683e-11\n",
      "h=1.0e-07, error=1.943278e-10\n",
      "h=1.0e-08, error=-2.581230e-09\n",
      "h=1.0e-09, error=2.969885e-09\n",
      "h=1.0e-10, error=5.848104e-08\n",
      "h=1.0e-11, error=1.168704e-06\n",
      "h=1.0e-12, error=1.227093e-05\n"
     ]
    }
   ],
   "source": [
    "\"\"\"Fórmula de la derivada de tres puntos.\n",
    "    \n",
    "Calcula la derivada de la función sen(x) para x=1.\n",
    "\"\"\"\n",
    "import math\n",
    "\n",
    "# punto en el cual evaluar la derivada\n",
    "x = 1.0\n",
    "\n",
    "# solución exacta\n",
    "exacta = math.cos(x)\n",
    "    \n",
    "# delta inicial\n",
    "h = 10.0\n",
    "for i in range(14):    \n",
    "    # la fórmula de 3 puntos: f' = (f(x + h) - f(x - h)) / (2h)\n",
    "    df = math.sin(x + h) - math.sin(x - h)\n",
    "    df = df / (2 * h)\n",
    "      \n",
    "    # error comparando con el valor exacto\n",
    "    error = exacta - df\n",
    "        \n",
    "    print(f\"h={h:.1e}, error={error:.6e}\")\n",
    "        \n",
    "    # disminuimos el valor de h un orden de magniutd\n",
    "    h = h / 10"
   ]
  },
  {
   "cell_type": "markdown",
   "metadata": {},
   "source": [
    "Vemos que el error disminuye al disminuir el valor de $h$ solo hasta cierto punto a partir del cual empieza a empeorar. Esto sucede por la precisión de la máquina."
   ]
  },
  {
   "cell_type": "markdown",
   "metadata": {},
   "source": [
    "## Cuadratura numérica"
   ]
  },
  {
   "cell_type": "markdown",
   "metadata": {},
   "source": [
    "Para el caso de la Regla de Simpson se tiene que\n",
    "$$\n",
    "\\int_{-h}^h f(x) dx = \\frac{h}{3} \\left[ f(x - h) + 4 f(x) + f(x + h) \\right]\n",
    "$$"
   ]
  },
  {
   "cell_type": "code",
   "execution_count": 2,
   "metadata": {},
   "outputs": [
    {
     "name": "stdout",
     "output_type": "stream",
     "text": [
      "n=4, error=-3.701346e-05\n",
      "n=8, error=-2.326241e-06\n",
      "n=16, error=-1.455928e-07\n",
      "n=32, error=-9.102727e-09\n",
      "n=64, error=-5.689702e-10\n",
      "n=128, error=-3.556067e-11\n"
     ]
    }
   ],
   "source": [
    "\"\"\"Regla de Simpson.\n",
    "\n",
    "Integración numérica de exp(x) entre 0 y 1.\n",
    "\"\"\"\n",
    "import math\n",
    "\n",
    "def func(x):\n",
    "    \"\"\"Función a integrar.\"\"\"\n",
    "    return math.exp(x)\n",
    "\n",
    "# solución exacta\n",
    "exacta = math.exp(1) - 1\n",
    "\n",
    "# número de intervalos\n",
    "for n in [4, 8, 16, 32, 64, 128]:\n",
    "    # se necesitan 2 o más intervalos\n",
    "    if (n < 2):\n",
    "        break\n",
    "        \n",
    "    # n tiene que ser par, se elige el valor más cercano\n",
    "    if n % 2 != 0:\n",
    "        n += 1\n",
    "\n",
    "    # vamos a acumular acá las sumas de la integral\n",
    "    h = 1 / n\n",
    "    factor = 2\n",
    "    integral = func(0)\n",
    "    for i in range(1, n):\n",
    "        if factor == 2:\n",
    "            factor = 4\n",
    "        else:\n",
    "            factor = 2\n",
    "        \n",
    "        x = i * h\n",
    "        integral = integral + factor * func(x)\n",
    "        \n",
    "    integral = integral + func(1)\n",
    "    \n",
    "    integral = h * integral / 3\n",
    "    \n",
    "    error = exacta - integral\n",
    "    \n",
    "    print(f\"n={n}, error={error:.6e}\")"
   ]
  },
  {
   "cell_type": "markdown",
   "metadata": {},
   "source": [
    "## Búsqueda de raíces"
   ]
  },
  {
   "cell_type": "code",
   "execution_count": 3,
   "metadata": {},
   "outputs": [
    {
     "name": "stdout",
     "output_type": "stream",
     "text": [
      "se alcanzó un resultado tolerable en 32 iteraciones\n"
     ]
    }
   ],
   "source": [
    "\"\"\"Método de la bisección.\n",
    "\n",
    "Búsqueda de la raíz x_r de f(x) = x^2 - 5 con una tolerancia de 1e-6.\"\"\"\n",
    "import math\n",
    "\n",
    "def func(x):\n",
    "    \"\"\"Función a la cual se le quiere encontrar la raíz.\"\"\"\n",
    "    return math.pow(x, 2) - 5\n",
    "\n",
    "# valor exacto\n",
    "exacta = 5\n",
    "\n",
    "# punto inicial cercano a la raíz en x, ancho del intervalo, tolerancia,\n",
    "# máximo número de iteraciones \n",
    "x, dx, xtol, nmax = 1, 0.5, 1e-6, 1000\n",
    "\n",
    "# evaluación de la función en x\n",
    "y = func(x)\n",
    "\n",
    "# vamos a escribir en un archivo la convergencia\n",
    "file = open(\"convergencia.csv\", \"w\")\n",
    "file.write(\"i,x_r,error\\n\")\n",
    "\n",
    "# ojo con los loops infinitos, tiene que haber alguna condición que rompa las iteraciones\n",
    "i = 0\n",
    "while(True):\n",
    "    if i > nmax:\n",
    "        print(\"se alcanzó el máximo de iteraciones sin encontrar un resultado tolerable\")\n",
    "        break\n",
    "\n",
    "    x += dx\n",
    "    \n",
    "    # escribimos la línea actual en el archivo\n",
    "    file.write(f\"{i},{x:.6e},{math.sqrt(exacta) - x:.6e}\\n\")\n",
    "    \n",
    "    # si nos pasamos de la raíz, volvemos atrás y disminuimos el ancho del paso\n",
    "    if (y * func(x)) < 0:\n",
    "        x -= dx\n",
    "        dx /= 2\n",
    "        \n",
    "    if abs(dx) < xtol:\n",
    "        print(f\"se alcanzó un resultado tolerable en {i} iteraciones\")\n",
    "        break\n",
    "    \n",
    "    i += 1\n",
    "    \n",
    "# cerramos el archivo\n",
    "file.close()"
   ]
  },
  {
   "cell_type": "markdown",
   "metadata": {},
   "source": [
    "Vemos el contenido del archivo escrito con el comando `cat` de Linux"
   ]
  },
  {
   "cell_type": "code",
   "execution_count": 4,
   "metadata": {},
   "outputs": [
    {
     "name": "stdout",
     "output_type": "stream",
     "text": [
      "i,x_r,error\n",
      "0,1.500000e+00,7.360680e-01\n",
      "1,2.000000e+00,2.360680e-01\n",
      "2,2.500000e+00,-2.639320e-01\n",
      "3,2.250000e+00,-1.393202e-02\n",
      "4,2.125000e+00,1.110680e-01\n",
      "5,2.250000e+00,-1.393202e-02\n",
      "6,2.187500e+00,4.856798e-02\n",
      "7,2.250000e+00,-1.393202e-02\n",
      "8,2.218750e+00,1.731798e-02\n",
      "9,2.250000e+00,-1.393202e-02\n",
      "10,2.234375e+00,1.692977e-03\n",
      "11,2.250000e+00,-1.393202e-02\n",
      "12,2.242188e+00,-6.119523e-03\n",
      "13,2.238281e+00,-2.213273e-03\n",
      "14,2.236328e+00,-2.601475e-04\n",
      "15,2.235352e+00,7.164150e-04\n",
      "16,2.236328e+00,-2.601475e-04\n",
      "17,2.235840e+00,2.281337e-04\n",
      "18,2.236328e+00,-2.601475e-04\n",
      "19,2.236084e+00,-1.600688e-05\n",
      "20,2.235962e+00,1.060634e-04\n",
      "21,2.236084e+00,-1.600688e-05\n",
      "22,2.236023e+00,4.502828e-05\n",
      "23,2.236084e+00,-1.600688e-05\n",
      "24,2.236053e+00,1.451070e-05\n",
      "25,2.236084e+00,-1.600688e-05\n",
      "26,2.236069e+00,-7.480861e-07\n",
      "27,2.236061e+00,6.881308e-06\n",
      "28,2.236069e+00,-7.480861e-07\n",
      "29,2.236065e+00,3.066611e-06\n",
      "30,2.236069e+00,-7.480861e-07\n",
      "31,2.236067e+00,1.159262e-06\n",
      "32,2.236069e+00,-7.480861e-07\n"
     ]
    }
   ],
   "source": [
    "!cat convergencia.csv"
   ]
  }
 ],
 "metadata": {
  "kernelspec": {
   "display_name": "Python 3",
   "language": "python",
   "name": "python3"
  },
  "language_info": {
   "codemirror_mode": {
    "name": "ipython",
    "version": 3
   },
   "file_extension": ".py",
   "mimetype": "text/x-python",
   "name": "python",
   "nbconvert_exporter": "python",
   "pygments_lexer": "ipython3",
   "version": "3.8.10"
  }
 },
 "nbformat": 4,
 "nbformat_minor": 4
}
